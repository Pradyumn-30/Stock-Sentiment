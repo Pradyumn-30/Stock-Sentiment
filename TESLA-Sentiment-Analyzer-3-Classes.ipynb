{
 "cells": [
  {
   "cell_type": "code",
   "execution_count": 2,
   "metadata": {},
   "outputs": [],
   "source": [
    "## importing pandas library\n",
    "import pandas as pd\n",
    "df = pd.read_csv('TESLA-tweets-2021-05-21-to-2021-05-20.csv', parse_dates=True)"
   ]
  },
  {
   "cell_type": "markdown",
   "metadata": {},
   "source": [
    "***About Data***\n",
    "\n",
    "Data consists of Tesla related tweets from 21/04/2021 to 21/05/2021.\n",
    "\n",
    "Data is in csv form.\n",
    "\n",
    "Data has 59,025 tweets.\n",
    "\n",
    "***Note: More data can be collected to improve the results.***"
   ]
  },
  {
   "cell_type": "code",
   "execution_count": 3,
   "metadata": {
    "scrolled": true
   },
   "outputs": [
    {
     "data": {
      "text/html": [
       "<div>\n",
       "<style scoped>\n",
       "    .dataframe tbody tr th:only-of-type {\n",
       "        vertical-align: middle;\n",
       "    }\n",
       "\n",
       "    .dataframe tbody tr th {\n",
       "        vertical-align: top;\n",
       "    }\n",
       "\n",
       "    .dataframe thead th {\n",
       "        text-align: right;\n",
       "    }\n",
       "</style>\n",
       "<table border=\"1\" class=\"dataframe\">\n",
       "  <thead>\n",
       "    <tr style=\"text-align: right;\">\n",
       "      <th></th>\n",
       "      <th>date</th>\n",
       "      <th>content</th>\n",
       "      <th>username</th>\n",
       "    </tr>\n",
       "  </thead>\n",
       "  <tbody>\n",
       "    <tr>\n",
       "      <th>0</th>\n",
       "      <td>2021-05-20 23:59:35+00:00</td>\n",
       "      <td>#Tesla #ElonMusk Tesla Roadster Gen 2 vs. Gen ...</td>\n",
       "      <td>eStream_Studios</td>\n",
       "    </tr>\n",
       "    <tr>\n",
       "      <th>1</th>\n",
       "      <td>2021-05-20 23:59:18+00:00</td>\n",
       "      <td>@lorakolodny If you ever had the opportunity t...</td>\n",
       "      <td>JohnNapieralski</td>\n",
       "    </tr>\n",
       "    <tr>\n",
       "      <th>2</th>\n",
       "      <td>2021-05-20 23:59:04+00:00</td>\n",
       "      <td>@elonmusk apply your spaceX thruster to the #A...</td>\n",
       "      <td>GreatEverton</td>\n",
       "    </tr>\n",
       "    <tr>\n",
       "      <th>3</th>\n",
       "      <td>2021-05-20 23:58:57+00:00</td>\n",
       "      <td>#Tesla's Solar Roof will play a role in #Bitco...</td>\n",
       "      <td>philipmak</td>\n",
       "    </tr>\n",
       "    <tr>\n",
       "      <th>4</th>\n",
       "      <td>2021-05-20 23:58:48+00:00</td>\n",
       "      <td>Really getting places with The Saurian Rangers...</td>\n",
       "      <td>AuthJamesFowler</td>\n",
       "    </tr>\n",
       "  </tbody>\n",
       "</table>\n",
       "</div>"
      ],
      "text/plain": [
       "                        date  \\\n",
       "0  2021-05-20 23:59:35+00:00   \n",
       "1  2021-05-20 23:59:18+00:00   \n",
       "2  2021-05-20 23:59:04+00:00   \n",
       "3  2021-05-20 23:58:57+00:00   \n",
       "4  2021-05-20 23:58:48+00:00   \n",
       "\n",
       "                                             content         username  \n",
       "0  #Tesla #ElonMusk Tesla Roadster Gen 2 vs. Gen ...  eStream_Studios  \n",
       "1  @lorakolodny If you ever had the opportunity t...  JohnNapieralski  \n",
       "2  @elonmusk apply your spaceX thruster to the #A...     GreatEverton  \n",
       "3  #Tesla's Solar Roof will play a role in #Bitco...        philipmak  \n",
       "4  Really getting places with The Saurian Rangers...  AuthJamesFowler  "
      ]
     },
     "execution_count": 3,
     "metadata": {},
     "output_type": "execute_result"
    }
   ],
   "source": [
    "df.head()"
   ]
  },
  {
   "cell_type": "code",
   "execution_count": 4,
   "metadata": {},
   "outputs": [
    {
     "data": {
      "text/plain": [
       "(59025, 3)"
      ]
     },
     "execution_count": 4,
     "metadata": {},
     "output_type": "execute_result"
    }
   ],
   "source": [
    "df.shape\n",
    "## There are 59,025 tweets with 3 columns"
   ]
  },
  {
   "cell_type": "code",
   "execution_count": 5,
   "metadata": {},
   "outputs": [],
   "source": [
    "## importing necessary NLP libraries\n",
    "from nltk.corpus import stopwords\n",
    "from textblob import TextBlob\n",
    "from textblob import Word\n",
    "import re\n",
    "import matplotlib.pyplot as plt"
   ]
  },
  {
   "cell_type": "code",
   "execution_count": 6,
   "metadata": {},
   "outputs": [],
   "source": [
    "## Module to remove urls\n",
    "def remove_url(text):\n",
    "    url = re.compile(r'https?://\\S+|www\\.\\S+')\n",
    "    return url.sub(r'', str(text))\n",
    "\n",
    "df['content'] = df.content.map(lambda x: remove_url(x))"
   ]
  },
  {
   "cell_type": "code",
   "execution_count": 7,
   "metadata": {},
   "outputs": [],
   "source": [
    "## Module to remove mentions in tweet\n",
    "def remove_mentions(text):\n",
    "    return re.sub(r'@[A-Za-z0-9_]+', '', text)\n",
    "\n",
    "df['content'] = df.content.map(lambda x: remove_mentions(x))"
   ]
  },
  {
   "cell_type": "code",
   "execution_count": 8,
   "metadata": {},
   "outputs": [],
   "source": [
    "## Removing hastags\n",
    "def remove_hashtags(text):\n",
    "    return re.sub(r'#[A-Za-z0-9_]+', '', str(text))\n",
    "\n",
    "df['content'] = df.content.map(lambda x: remove_hashtags(x))"
   ]
  },
  {
   "cell_type": "code",
   "execution_count": 9,
   "metadata": {},
   "outputs": [],
   "source": [
    "## removing extra whitespaces\n",
    "def remove_whitespace(text):\n",
    "    return re.sub(' +', ' ',text)\n",
    "\n",
    "df['content'] = df.content.map(lambda x: remove_whitespace(x))"
   ]
  },
  {
   "cell_type": "code",
   "execution_count": 10,
   "metadata": {},
   "outputs": [],
   "source": [
    "from vaderSentiment.vaderSentiment import SentimentIntensityAnalyzer\n",
    "\n",
    "## adding few stock related words to Vader Dictionary\n",
    "## words along with sentiment score are added\n",
    "\n",
    "analyzer = SentimentIntensityAnalyzer()\n",
    "\n",
    "new_words = {\n",
    "    'bear':-3.0,\n",
    "    'bull':3.0\n",
    "}\n",
    "\n",
    "analyzer.lexicon.update(new_words)"
   ]
  },
  {
   "cell_type": "code",
   "execution_count": 11,
   "metadata": {},
   "outputs": [
    {
     "data": {
      "text/html": [
       "<div>\n",
       "<style scoped>\n",
       "    .dataframe tbody tr th:only-of-type {\n",
       "        vertical-align: middle;\n",
       "    }\n",
       "\n",
       "    .dataframe tbody tr th {\n",
       "        vertical-align: top;\n",
       "    }\n",
       "\n",
       "    .dataframe thead th {\n",
       "        text-align: right;\n",
       "    }\n",
       "</style>\n",
       "<table border=\"1\" class=\"dataframe\">\n",
       "  <thead>\n",
       "    <tr style=\"text-align: right;\">\n",
       "      <th></th>\n",
       "      <th>neg</th>\n",
       "      <th>neu</th>\n",
       "      <th>pos</th>\n",
       "      <th>compound</th>\n",
       "    </tr>\n",
       "  </thead>\n",
       "  <tbody>\n",
       "    <tr>\n",
       "      <th>0</th>\n",
       "      <td>0.000</td>\n",
       "      <td>0.938</td>\n",
       "      <td>0.062</td>\n",
       "      <td>0.3182</td>\n",
       "    </tr>\n",
       "    <tr>\n",
       "      <th>1</th>\n",
       "      <td>0.104</td>\n",
       "      <td>0.841</td>\n",
       "      <td>0.055</td>\n",
       "      <td>-0.3612</td>\n",
       "    </tr>\n",
       "    <tr>\n",
       "      <th>2</th>\n",
       "      <td>0.000</td>\n",
       "      <td>0.960</td>\n",
       "      <td>0.040</td>\n",
       "      <td>0.3182</td>\n",
       "    </tr>\n",
       "    <tr>\n",
       "      <th>3</th>\n",
       "      <td>0.000</td>\n",
       "      <td>0.821</td>\n",
       "      <td>0.179</td>\n",
       "      <td>0.3400</td>\n",
       "    </tr>\n",
       "    <tr>\n",
       "      <th>4</th>\n",
       "      <td>0.000</td>\n",
       "      <td>0.825</td>\n",
       "      <td>0.175</td>\n",
       "      <td>0.1779</td>\n",
       "    </tr>\n",
       "  </tbody>\n",
       "</table>\n",
       "</div>"
      ],
      "text/plain": [
       "     neg    neu    pos  compound\n",
       "0  0.000  0.938  0.062    0.3182\n",
       "1  0.104  0.841  0.055   -0.3612\n",
       "2  0.000  0.960  0.040    0.3182\n",
       "3  0.000  0.821  0.179    0.3400\n",
       "4  0.000  0.825  0.175    0.1779"
      ]
     },
     "execution_count": 11,
     "metadata": {},
     "output_type": "execute_result"
    }
   ],
   "source": [
    "emptyline = []\n",
    "for row in df.content:\n",
    "    vs = analyzer.polarity_scores(row)\n",
    "    emptyline.append(vs)\n",
    "    \n",
    "df_sentiment = pd.DataFrame(emptyline)\n",
    "df_sentiment.head()"
   ]
  },
  {
   "cell_type": "code",
   "execution_count": 12,
   "metadata": {},
   "outputs": [
    {
     "data": {
      "text/html": [
       "<div>\n",
       "<style scoped>\n",
       "    .dataframe tbody tr th:only-of-type {\n",
       "        vertical-align: middle;\n",
       "    }\n",
       "\n",
       "    .dataframe tbody tr th {\n",
       "        vertical-align: top;\n",
       "    }\n",
       "\n",
       "    .dataframe thead th {\n",
       "        text-align: right;\n",
       "    }\n",
       "</style>\n",
       "<table border=\"1\" class=\"dataframe\">\n",
       "  <thead>\n",
       "    <tr style=\"text-align: right;\">\n",
       "      <th></th>\n",
       "      <th>date</th>\n",
       "      <th>content</th>\n",
       "      <th>username</th>\n",
       "      <th>neg</th>\n",
       "      <th>neu</th>\n",
       "      <th>pos</th>\n",
       "      <th>compound</th>\n",
       "    </tr>\n",
       "  </thead>\n",
       "  <tbody>\n",
       "    <tr>\n",
       "      <th>0</th>\n",
       "      <td>2021-05-20 23:59:35+00:00</td>\n",
       "      <td>Tesla Roadster Gen 2 vs. Gen 1: See how much ...</td>\n",
       "      <td>eStream_Studios</td>\n",
       "      <td>0.000</td>\n",
       "      <td>0.938</td>\n",
       "      <td>0.062</td>\n",
       "      <td>0.3182</td>\n",
       "    </tr>\n",
       "    <tr>\n",
       "      <th>1</th>\n",
       "      <td>2021-05-20 23:59:18+00:00</td>\n",
       "      <td>If you ever had the opportunity to drive a , ...</td>\n",
       "      <td>JohnNapieralski</td>\n",
       "      <td>0.104</td>\n",
       "      <td>0.841</td>\n",
       "      <td>0.055</td>\n",
       "      <td>-0.3612</td>\n",
       "    </tr>\n",
       "    <tr>\n",
       "      <th>2</th>\n",
       "      <td>2021-05-20 23:59:04+00:00</td>\n",
       "      <td>apply your spaceX thruster to the movements a...</td>\n",
       "      <td>GreatEverton</td>\n",
       "      <td>0.000</td>\n",
       "      <td>0.960</td>\n",
       "      <td>0.040</td>\n",
       "      <td>0.3182</td>\n",
       "    </tr>\n",
       "    <tr>\n",
       "      <th>3</th>\n",
       "      <td>2021-05-20 23:58:57+00:00</td>\n",
       "      <td>'s Solar Roof will play a role in Mining in th...</td>\n",
       "      <td>philipmak</td>\n",
       "      <td>0.000</td>\n",
       "      <td>0.821</td>\n",
       "      <td>0.179</td>\n",
       "      <td>0.3400</td>\n",
       "    </tr>\n",
       "    <tr>\n",
       "      <th>4</th>\n",
       "      <td>2021-05-20 23:58:48+00:00</td>\n",
       "      <td>Really getting places with The Saurian Rangers...</td>\n",
       "      <td>AuthJamesFowler</td>\n",
       "      <td>0.000</td>\n",
       "      <td>0.825</td>\n",
       "      <td>0.175</td>\n",
       "      <td>0.1779</td>\n",
       "    </tr>\n",
       "  </tbody>\n",
       "</table>\n",
       "</div>"
      ],
      "text/plain": [
       "                        date  \\\n",
       "0  2021-05-20 23:59:35+00:00   \n",
       "1  2021-05-20 23:59:18+00:00   \n",
       "2  2021-05-20 23:59:04+00:00   \n",
       "3  2021-05-20 23:58:57+00:00   \n",
       "4  2021-05-20 23:58:48+00:00   \n",
       "\n",
       "                                             content         username    neg  \\\n",
       "0   Tesla Roadster Gen 2 vs. Gen 1: See how much ...  eStream_Studios  0.000   \n",
       "1   If you ever had the opportunity to drive a , ...  JohnNapieralski  0.104   \n",
       "2   apply your spaceX thruster to the movements a...     GreatEverton  0.000   \n",
       "3  's Solar Roof will play a role in Mining in th...        philipmak  0.000   \n",
       "4  Really getting places with The Saurian Rangers...  AuthJamesFowler  0.000   \n",
       "\n",
       "     neu    pos  compound  \n",
       "0  0.938  0.062    0.3182  \n",
       "1  0.841  0.055   -0.3612  \n",
       "2  0.960  0.040    0.3182  \n",
       "3  0.821  0.179    0.3400  \n",
       "4  0.825  0.175    0.1779  "
      ]
     },
     "execution_count": 12,
     "metadata": {},
     "output_type": "execute_result"
    }
   ],
   "source": [
    "df2 = pd.concat([df.reset_index(drop = True), df_sentiment], axis = 1)\n",
    "df2.head()"
   ]
  },
  {
   "cell_type": "code",
   "execution_count": 13,
   "metadata": {},
   "outputs": [],
   "source": [
    "df2.reset_index(drop = True, inplace = True)"
   ]
  },
  {
   "cell_type": "code",
   "execution_count": 14,
   "metadata": {
    "scrolled": false
   },
   "outputs": [
    {
     "name": "stderr",
     "output_type": "stream",
     "text": [
      "<ipython-input-14-cd5032d58b95>:13: SettingWithCopyWarning: \n",
      "A value is trying to be set on a copy of a slice from a DataFrame\n",
      "\n",
      "See the caveats in the documentation: https://pandas.pydata.org/pandas-docs/stable/user_guide/indexing.html#returning-a-view-versus-a-copy\n",
      "  df2.sentiment[index] = 2\n",
      "<ipython-input-14-cd5032d58b95>:11: SettingWithCopyWarning: \n",
      "A value is trying to be set on a copy of a slice from a DataFrame\n",
      "\n",
      "See the caveats in the documentation: https://pandas.pydata.org/pandas-docs/stable/user_guide/indexing.html#returning-a-view-versus-a-copy\n",
      "  df2.sentiment[index] = 1\n",
      "<ipython-input-14-cd5032d58b95>:15: SettingWithCopyWarning: \n",
      "A value is trying to be set on a copy of a slice from a DataFrame\n",
      "\n",
      "See the caveats in the documentation: https://pandas.pydata.org/pandas-docs/stable/user_guide/indexing.html#returning-a-view-versus-a-copy\n",
      "  df2.sentiment[index] = 0\n"
     ]
    },
    {
     "data": {
      "text/html": [
       "<div>\n",
       "<style scoped>\n",
       "    .dataframe tbody tr th:only-of-type {\n",
       "        vertical-align: middle;\n",
       "    }\n",
       "\n",
       "    .dataframe tbody tr th {\n",
       "        vertical-align: top;\n",
       "    }\n",
       "\n",
       "    .dataframe thead th {\n",
       "        text-align: right;\n",
       "    }\n",
       "</style>\n",
       "<table border=\"1\" class=\"dataframe\">\n",
       "  <thead>\n",
       "    <tr style=\"text-align: right;\">\n",
       "      <th></th>\n",
       "      <th>date</th>\n",
       "      <th>content</th>\n",
       "      <th>username</th>\n",
       "      <th>neg</th>\n",
       "      <th>neu</th>\n",
       "      <th>pos</th>\n",
       "      <th>compound</th>\n",
       "      <th>sentiment</th>\n",
       "    </tr>\n",
       "  </thead>\n",
       "  <tbody>\n",
       "    <tr>\n",
       "      <th>0</th>\n",
       "      <td>2021-05-20 23:59:35+00:00</td>\n",
       "      <td>Tesla Roadster Gen 2 vs. Gen 1: See how much ...</td>\n",
       "      <td>eStream_Studios</td>\n",
       "      <td>0.000</td>\n",
       "      <td>0.938</td>\n",
       "      <td>0.062</td>\n",
       "      <td>0.3182</td>\n",
       "      <td>2.0</td>\n",
       "    </tr>\n",
       "    <tr>\n",
       "      <th>1</th>\n",
       "      <td>2021-05-20 23:59:18+00:00</td>\n",
       "      <td>If you ever had the opportunity to drive a , ...</td>\n",
       "      <td>JohnNapieralski</td>\n",
       "      <td>0.104</td>\n",
       "      <td>0.841</td>\n",
       "      <td>0.055</td>\n",
       "      <td>-0.3612</td>\n",
       "      <td>1.0</td>\n",
       "    </tr>\n",
       "    <tr>\n",
       "      <th>2</th>\n",
       "      <td>2021-05-20 23:59:04+00:00</td>\n",
       "      <td>apply your spaceX thruster to the movements a...</td>\n",
       "      <td>GreatEverton</td>\n",
       "      <td>0.000</td>\n",
       "      <td>0.960</td>\n",
       "      <td>0.040</td>\n",
       "      <td>0.3182</td>\n",
       "      <td>2.0</td>\n",
       "    </tr>\n",
       "    <tr>\n",
       "      <th>3</th>\n",
       "      <td>2021-05-20 23:58:57+00:00</td>\n",
       "      <td>'s Solar Roof will play a role in Mining in th...</td>\n",
       "      <td>philipmak</td>\n",
       "      <td>0.000</td>\n",
       "      <td>0.821</td>\n",
       "      <td>0.179</td>\n",
       "      <td>0.3400</td>\n",
       "      <td>2.0</td>\n",
       "    </tr>\n",
       "    <tr>\n",
       "      <th>4</th>\n",
       "      <td>2021-05-20 23:58:48+00:00</td>\n",
       "      <td>Really getting places with The Saurian Rangers...</td>\n",
       "      <td>AuthJamesFowler</td>\n",
       "      <td>0.000</td>\n",
       "      <td>0.825</td>\n",
       "      <td>0.175</td>\n",
       "      <td>0.1779</td>\n",
       "      <td>2.0</td>\n",
       "    </tr>\n",
       "  </tbody>\n",
       "</table>\n",
       "</div>"
      ],
      "text/plain": [
       "                        date  \\\n",
       "0  2021-05-20 23:59:35+00:00   \n",
       "1  2021-05-20 23:59:18+00:00   \n",
       "2  2021-05-20 23:59:04+00:00   \n",
       "3  2021-05-20 23:58:57+00:00   \n",
       "4  2021-05-20 23:58:48+00:00   \n",
       "\n",
       "                                             content         username    neg  \\\n",
       "0   Tesla Roadster Gen 2 vs. Gen 1: See how much ...  eStream_Studios  0.000   \n",
       "1   If you ever had the opportunity to drive a , ...  JohnNapieralski  0.104   \n",
       "2   apply your spaceX thruster to the movements a...     GreatEverton  0.000   \n",
       "3  's Solar Roof will play a role in Mining in th...        philipmak  0.000   \n",
       "4  Really getting places with The Saurian Rangers...  AuthJamesFowler  0.000   \n",
       "\n",
       "     neu    pos  compound  sentiment  \n",
       "0  0.938  0.062    0.3182        2.0  \n",
       "1  0.841  0.055   -0.3612        1.0  \n",
       "2  0.960  0.040    0.3182        2.0  \n",
       "3  0.821  0.179    0.3400        2.0  \n",
       "4  0.825  0.175    0.1779        2.0  "
      ]
     },
     "execution_count": 14,
     "metadata": {},
     "output_type": "execute_result"
    }
   ],
   "source": [
    "import numpy as np\n",
    "\n",
    "## Labelling tweets\n",
    "## 2 ---> positive sentiment\n",
    "## 0 ---> neutral sentiment\n",
    "## 1 ---> negative sentiment\n",
    "\n",
    "df2['sentiment'] = np.nan\n",
    "for index in range(len(df2.compound)):\n",
    "    if df2.compound[index] < 0.0:\n",
    "        df2.sentiment[index] = 1\n",
    "    elif df2.compound[index] > 0.0:\n",
    "        df2.sentiment[index] = 2\n",
    "    else:\n",
    "        df2.sentiment[index] = 0\n",
    "            \n",
    "df2.head() "
   ]
  },
  {
   "cell_type": "code",
   "execution_count": 15,
   "metadata": {
    "scrolled": true
   },
   "outputs": [
    {
     "data": {
      "text/plain": [
       "2.0    26949\n",
       "0.0    20609\n",
       "1.0    11467\n",
       "Name: sentiment, dtype: int64"
      ]
     },
     "execution_count": 15,
     "metadata": {},
     "output_type": "execute_result"
    }
   ],
   "source": [
    "df2.sentiment.value_counts()  ## data is highly imbalanced"
   ]
  },
  {
   "cell_type": "code",
   "execution_count": 16,
   "metadata": {},
   "outputs": [
    {
     "data": {
      "text/plain": [
       "<AxesSubplot:>"
      ]
     },
     "execution_count": 16,
     "metadata": {},
     "output_type": "execute_result"
    },
    {
     "data": {
      "image/png": "[encoded data removed]",
      "text/plain": [
       "<Figure size 432x288 with 1 Axes>"
      ]
     },
     "metadata": {
      "needs_background": "light"
     },
     "output_type": "display_data"
    }
   ],
   "source": [
    "results = df2.sentiment.value_counts()\n",
    "results.plot(kind = 'bar', rot = 0,  color = ['cyan','plum','yellow'])"
   ]
  },
  {
   "cell_type": "code",
   "execution_count": 17,
   "metadata": {},
   "outputs": [
    {
     "name": "stdout",
     "output_type": "stream",
     "text": [
      "<class 'pandas.core.frame.DataFrame'>\n",
      "RangeIndex: 59025 entries, 0 to 59024\n",
      "Data columns (total 8 columns):\n",
      " #   Column     Non-Null Count  Dtype  \n",
      "---  ------     --------------  -----  \n",
      " 0   date       59025 non-null  object \n",
      " 1   content    59025 non-null  object \n",
      " 2   username   59025 non-null  object \n",
      " 3   neg        59025 non-null  float64\n",
      " 4   neu        59025 non-null  float64\n",
      " 5   pos        59025 non-null  float64\n",
      " 6   compound   59025 non-null  float64\n",
      " 7   sentiment  59025 non-null  float64\n",
      "dtypes: float64(5), object(3)\n",
      "memory usage: 3.6+ MB\n"
     ]
    }
   ],
   "source": [
    "df2.info()"
   ]
  },
  {
   "cell_type": "code",
   "execution_count": 18,
   "metadata": {},
   "outputs": [
    {
     "data": {
      "text/plain": [
       "(59021, 8)"
      ]
     },
     "execution_count": 18,
     "metadata": {},
     "output_type": "execute_result"
    }
   ],
   "source": [
    "df2.drop_duplicates(keep = 'first', inplace = True)\n",
    "df2.reset_index(drop = True, inplace = False)\n",
    "df2.shape"
   ]
  },
  {
   "cell_type": "code",
   "execution_count": 19,
   "metadata": {},
   "outputs": [
    {
     "data": {
      "text/html": [
       "<div>\n",
       "<style scoped>\n",
       "    .dataframe tbody tr th:only-of-type {\n",
       "        vertical-align: middle;\n",
       "    }\n",
       "\n",
       "    .dataframe tbody tr th {\n",
       "        vertical-align: top;\n",
       "    }\n",
       "\n",
       "    .dataframe thead th {\n",
       "        text-align: right;\n",
       "    }\n",
       "</style>\n",
       "<table border=\"1\" class=\"dataframe\">\n",
       "  <thead>\n",
       "    <tr style=\"text-align: right;\">\n",
       "      <th></th>\n",
       "      <th>date</th>\n",
       "      <th>content</th>\n",
       "      <th>username</th>\n",
       "      <th>neg</th>\n",
       "      <th>neu</th>\n",
       "      <th>pos</th>\n",
       "      <th>compound</th>\n",
       "      <th>sentiment</th>\n",
       "    </tr>\n",
       "  </thead>\n",
       "  <tbody>\n",
       "    <tr>\n",
       "      <th>0</th>\n",
       "      <td>2021-05-20 23:59:35+00:00</td>\n",
       "      <td>Tesla Roadster Gen 2 vs. Gen 1: See how much ...</td>\n",
       "      <td>eStream_Studios</td>\n",
       "      <td>0.000</td>\n",
       "      <td>0.938</td>\n",
       "      <td>0.062</td>\n",
       "      <td>0.3182</td>\n",
       "      <td>2.0</td>\n",
       "    </tr>\n",
       "    <tr>\n",
       "      <th>1</th>\n",
       "      <td>2021-05-20 23:59:18+00:00</td>\n",
       "      <td>If you ever had the opportunity to drive a , ...</td>\n",
       "      <td>JohnNapieralski</td>\n",
       "      <td>0.104</td>\n",
       "      <td>0.841</td>\n",
       "      <td>0.055</td>\n",
       "      <td>-0.3612</td>\n",
       "      <td>1.0</td>\n",
       "    </tr>\n",
       "    <tr>\n",
       "      <th>2</th>\n",
       "      <td>2021-05-20 23:59:04+00:00</td>\n",
       "      <td>apply your spaceX thruster to the movements a...</td>\n",
       "      <td>GreatEverton</td>\n",
       "      <td>0.000</td>\n",
       "      <td>0.960</td>\n",
       "      <td>0.040</td>\n",
       "      <td>0.3182</td>\n",
       "      <td>2.0</td>\n",
       "    </tr>\n",
       "    <tr>\n",
       "      <th>3</th>\n",
       "      <td>2021-05-20 23:58:57+00:00</td>\n",
       "      <td>'s Solar Roof will play a role in Mining in th...</td>\n",
       "      <td>philipmak</td>\n",
       "      <td>0.000</td>\n",
       "      <td>0.821</td>\n",
       "      <td>0.179</td>\n",
       "      <td>0.3400</td>\n",
       "      <td>2.0</td>\n",
       "    </tr>\n",
       "    <tr>\n",
       "      <th>4</th>\n",
       "      <td>2021-05-20 23:58:48+00:00</td>\n",
       "      <td>Really getting places with The Saurian Rangers...</td>\n",
       "      <td>AuthJamesFowler</td>\n",
       "      <td>0.000</td>\n",
       "      <td>0.825</td>\n",
       "      <td>0.175</td>\n",
       "      <td>0.1779</td>\n",
       "      <td>2.0</td>\n",
       "    </tr>\n",
       "  </tbody>\n",
       "</table>\n",
       "</div>"
      ],
      "text/plain": [
       "                       date  \\\n",
       "0 2021-05-20 23:59:35+00:00   \n",
       "1 2021-05-20 23:59:18+00:00   \n",
       "2 2021-05-20 23:59:04+00:00   \n",
       "3 2021-05-20 23:58:57+00:00   \n",
       "4 2021-05-20 23:58:48+00:00   \n",
       "\n",
       "                                             content         username    neg  \\\n",
       "0   Tesla Roadster Gen 2 vs. Gen 1: See how much ...  eStream_Studios  0.000   \n",
       "1   If you ever had the opportunity to drive a , ...  JohnNapieralski  0.104   \n",
       "2   apply your spaceX thruster to the movements a...     GreatEverton  0.000   \n",
       "3  's Solar Roof will play a role in Mining in th...        philipmak  0.000   \n",
       "4  Really getting places with The Saurian Rangers...  AuthJamesFowler  0.000   \n",
       "\n",
       "     neu    pos  compound  sentiment  \n",
       "0  0.938  0.062    0.3182        2.0  \n",
       "1  0.841  0.055   -0.3612        1.0  \n",
       "2  0.960  0.040    0.3182        2.0  \n",
       "3  0.821  0.179    0.3400        2.0  \n",
       "4  0.825  0.175    0.1779        2.0  "
      ]
     },
     "execution_count": 19,
     "metadata": {},
     "output_type": "execute_result"
    }
   ],
   "source": [
    "df2['date'] = pd.DatetimeIndex(df2.date)\n",
    "\n",
    "df2.head()"
   ]
  },
  {
   "cell_type": "code",
   "execution_count": 20,
   "metadata": {},
   "outputs": [
    {
     "data": {
      "text/html": [
       "<div>\n",
       "<style scoped>\n",
       "    .dataframe tbody tr th:only-of-type {\n",
       "        vertical-align: middle;\n",
       "    }\n",
       "\n",
       "    .dataframe tbody tr th {\n",
       "        vertical-align: top;\n",
       "    }\n",
       "\n",
       "    .dataframe thead th {\n",
       "        text-align: right;\n",
       "    }\n",
       "</style>\n",
       "<table border=\"1\" class=\"dataframe\">\n",
       "  <thead>\n",
       "    <tr style=\"text-align: right;\">\n",
       "      <th></th>\n",
       "      <th>date</th>\n",
       "      <th>compound</th>\n",
       "    </tr>\n",
       "  </thead>\n",
       "  <tbody>\n",
       "    <tr>\n",
       "      <th>0</th>\n",
       "      <td>2021-05-20 23:59:35+00:00</td>\n",
       "      <td>0.3182</td>\n",
       "    </tr>\n",
       "    <tr>\n",
       "      <th>1</th>\n",
       "      <td>2021-05-20 23:59:18+00:00</td>\n",
       "      <td>-0.3612</td>\n",
       "    </tr>\n",
       "    <tr>\n",
       "      <th>2</th>\n",
       "      <td>2021-05-20 23:59:04+00:00</td>\n",
       "      <td>0.3182</td>\n",
       "    </tr>\n",
       "    <tr>\n",
       "      <th>3</th>\n",
       "      <td>2021-05-20 23:58:57+00:00</td>\n",
       "      <td>0.3400</td>\n",
       "    </tr>\n",
       "    <tr>\n",
       "      <th>4</th>\n",
       "      <td>2021-05-20 23:58:48+00:00</td>\n",
       "      <td>0.1779</td>\n",
       "    </tr>\n",
       "  </tbody>\n",
       "</table>\n",
       "</div>"
      ],
      "text/plain": [
       "                       date  compound\n",
       "0 2021-05-20 23:59:35+00:00    0.3182\n",
       "1 2021-05-20 23:59:18+00:00   -0.3612\n",
       "2 2021-05-20 23:59:04+00:00    0.3182\n",
       "3 2021-05-20 23:58:57+00:00    0.3400\n",
       "4 2021-05-20 23:58:48+00:00    0.1779"
      ]
     },
     "execution_count": 20,
     "metadata": {},
     "output_type": "execute_result"
    }
   ],
   "source": [
    "score = df2[['date','compound']]\n",
    "score.head()"
   ]
  },
  {
   "cell_type": "code",
   "execution_count": 21,
   "metadata": {},
   "outputs": [
    {
     "name": "stdout",
     "output_type": "stream",
     "text": [
      "<class 'pandas.core.frame.DataFrame'>\n",
      "Int64Index: 59021 entries, 0 to 59024\n",
      "Data columns (total 2 columns):\n",
      " #   Column    Non-Null Count  Dtype              \n",
      "---  ------    --------------  -----              \n",
      " 0   date      59021 non-null  datetime64[ns, UTC]\n",
      " 1   compound  59021 non-null  float64            \n",
      "dtypes: datetime64[ns, UTC](1), float64(1)\n",
      "memory usage: 1.4 MB\n"
     ]
    }
   ],
   "source": [
    "score.info()"
   ]
  },
  {
   "cell_type": "code",
   "execution_count": 22,
   "metadata": {},
   "outputs": [
    {
     "data": {
      "text/plain": [
       "date\n",
       "2021-04-21 00:00:00+00:00    0.152314\n",
       "2021-04-22 00:00:00+00:00    0.149397\n",
       "2021-04-23 00:00:00+00:00    0.145819\n",
       "2021-04-24 00:00:00+00:00    0.160794\n",
       "2021-04-25 00:00:00+00:00    0.186266\n",
       "Freq: D, Name: compound, dtype: float64"
      ]
     },
     "execution_count": 22,
     "metadata": {},
     "output_type": "execute_result"
    }
   ],
   "source": [
    "score.set_index(df2['date'], inplace = True, drop = True)\n",
    "\n",
    "## Resampling data by taking mean of the compund score for each day\n",
    "score_by_day = score['compound'].resample('D').mean()\n",
    "score_by_day.head()"
   ]
  },
  {
   "cell_type": "code",
   "execution_count": 23,
   "metadata": {},
   "outputs": [
    {
     "data": {
      "text/plain": [
       "<AxesSubplot:xlabel='date'>"
      ]
     },
     "execution_count": 23,
     "metadata": {},
     "output_type": "execute_result"
    },
    {
     "data": {
      "image/png": "[encoded data removed]",
      "text/plain": [
       "<Figure size 432x288 with 1 Axes>"
      ]
     },
     "metadata": {
      "needs_background": "light"
     },
     "output_type": "display_data"
    }
   ],
   "source": [
    "## ploting sentiment score for each day\n",
    "score_by_day.plot(kind = 'line', color = 'r')"
   ]
  },
  {
   "cell_type": "code",
   "execution_count": 24,
   "metadata": {},
   "outputs": [],
   "source": [
    "## changing tweets to lower case\n",
    "df2['content'] = df2.content.apply(lambda x:' '.join(x.lower() for x in x.split()))"
   ]
  },
  {
   "cell_type": "code",
   "execution_count": 25,
   "metadata": {},
   "outputs": [
    {
     "data": {
      "text/plain": [
       "0    tesla roadster gen 2 vs. gen 1: see much chang...\n",
       "1    ever opportunity drive , realize vehicles don’...\n",
       "2    apply spacex thruster movements let’s stick sh...\n",
       "3               's solar roof play role mining future.\n",
       "4        really getting places saurian rangers amazon.\n",
       "Name: content, dtype: object"
      ]
     },
     "execution_count": 25,
     "metadata": {},
     "output_type": "execute_result"
    }
   ],
   "source": [
    "stop = stopwords.words('english')\n",
    "## removing stopwords\n",
    "df2['content'] = df2.content.apply(lambda x:' '.join(x for x in x.split() if x not in stop))\n",
    "df2.content.head()"
   ]
  },
  {
   "cell_type": "code",
   "execution_count": 26,
   "metadata": {},
   "outputs": [
    {
     "data": {
      "text/plain": [
       "0    tesla roadster gen 2 vs gen 1 see much changed...\n",
       "1    ever opportunity drive  realize vehicles dont ...\n",
       "2    apply spacex thruster movements lets stick sho...\n",
       "3                 s solar roof play role mining future\n",
       "4         really getting places saurian rangers amazon\n",
       "Name: content, dtype: object"
      ]
     },
     "execution_count": 26,
     "metadata": {},
     "output_type": "execute_result"
    }
   ],
   "source": [
    "df2['content'] = df2.content.str.replace('[^\\w\\s]','')\n",
    "## keeping only letters and words\n",
    "df2.content.head()"
   ]
  },
  {
   "cell_type": "code",
   "execution_count": 27,
   "metadata": {},
   "outputs": [
    {
     "data": {
      "text/plain": [
       "0    tesla roadster gen 2 v gen 1 see much changed ...\n",
       "1    ever opportunity drive realize vehicle dont co...\n",
       "2    apply spacex thruster movement let stick short...\n",
       "3                 s solar roof play role mining future\n",
       "4           really getting place saurian ranger amazon\n",
       "Name: content, dtype: object"
      ]
     },
     "execution_count": 27,
     "metadata": {},
     "output_type": "execute_result"
    }
   ],
   "source": [
    "df2['content'] = df2.content.apply(lambda x:' '.join([Word(word).lemmatize() for word in x.split()]))\n",
    "## Lemmatizing each word\n",
    "df2.content.head()\n",
    "\n",
    "## Note: One or two letter words can also be removed from the tweets"
   ]
  },
  {
   "cell_type": "code",
   "execution_count": 28,
   "metadata": {},
   "outputs": [],
   "source": [
    "## Importing train-test split\n",
    "from sklearn.model_selection import train_test_split"
   ]
  },
  {
   "cell_type": "code",
   "execution_count": 29,
   "metadata": {},
   "outputs": [],
   "source": [
    "## Importing necessary libraries for modelling\n",
    "from keras.models import Sequential\n",
    "from keras.layers import Dense, LSTM, Embedding, Dropout\n",
    "from tensorflow.keras.callbacks import EarlyStopping\n",
    "from keras.preprocessing.text import Tokenizer\n",
    "from keras.preprocessing.sequence import pad_sequences\n",
    "from keras.regularizers import l2"
   ]
  },
  {
   "cell_type": "markdown",
   "metadata": {},
   "source": [
    "<b> Balancing the dataset </b>"
   ]
  },
  {
   "cell_type": "code",
   "execution_count": 30,
   "metadata": {},
   "outputs": [
    {
     "data": {
      "text/plain": [
       "2.0    26948\n",
       "0.0    20607\n",
       "1.0    11466\n",
       "Name: sentiment, dtype: int64"
      ]
     },
     "execution_count": 30,
     "metadata": {},
     "output_type": "execute_result"
    }
   ],
   "source": [
    "df2.sentiment.value_counts()"
   ]
  },
  {
   "cell_type": "code",
   "execution_count": 31,
   "metadata": {},
   "outputs": [
    {
     "data": {
      "text/plain": [
       "(11466, 8)"
      ]
     },
     "execution_count": 31,
     "metadata": {},
     "output_type": "execute_result"
    }
   ],
   "source": [
    "## Randomly sampling 11466 instances from class 1\n",
    "## This will make the dataset balanced\n",
    "\n",
    "pos_df = df2[df2.sentiment == 2].sample(n = 11466).reset_index(drop = True)\n",
    "pos_df.shape"
   ]
  },
  {
   "cell_type": "code",
   "execution_count": 32,
   "metadata": {},
   "outputs": [
    {
     "data": {
      "text/plain": [
       "(11466, 8)"
      ]
     },
     "execution_count": 32,
     "metadata": {},
     "output_type": "execute_result"
    }
   ],
   "source": [
    "## Similar procedure is applied to tweets with neutral sentiment\n",
    "neu_df = df2[df2.sentiment == 0].sample(n = 11466).reset_index(drop = True)\n",
    "neu_df.shape"
   ]
  },
  {
   "cell_type": "code",
   "execution_count": 33,
   "metadata": {},
   "outputs": [
    {
     "data": {
      "text/plain": [
       "(11466, 8)"
      ]
     },
     "execution_count": 33,
     "metadata": {},
     "output_type": "execute_result"
    }
   ],
   "source": [
    "## Getting all the tweets with negative sentiment\n",
    "neg_df = df2[df2.sentiment == 1].reset_index(drop = True)\n",
    "neg_df.shape"
   ]
  },
  {
   "cell_type": "code",
   "execution_count": 34,
   "metadata": {},
   "outputs": [
    {
     "data": {
      "text/plain": [
       "(34398, 8)"
      ]
     },
     "execution_count": 34,
     "metadata": {},
     "output_type": "execute_result"
    }
   ],
   "source": [
    "bal_df = pos_df.append(neg_df).append(neu_df).reset_index(drop = True)\n",
    "bal_df.shape\n",
    "\n",
    "## Now we have total 34,398 instances"
   ]
  },
  {
   "cell_type": "code",
   "execution_count": 35,
   "metadata": {},
   "outputs": [
    {
     "data": {
      "text/plain": [
       "<AxesSubplot:>"
      ]
     },
     "execution_count": 35,
     "metadata": {},
     "output_type": "execute_result"
    },
    {
     "data": {
      "image/png": "[encoded data removed]",
      "text/plain": [
       "<Figure size 432x288 with 1 Axes>"
      ]
     },
     "metadata": {
      "needs_background": "light"
     },
     "output_type": "display_data"
    }
   ],
   "source": [
    "bal_df.sentiment.value_counts().plot(kind = 'bar', color = ['cyan','plum','yellow'])\n",
    "## data is now balanced"
   ]
  },
  {
   "cell_type": "code",
   "execution_count": 36,
   "metadata": {},
   "outputs": [
    {
     "data": {
      "text/plain": [
       "array([[   0,    0,    0,    0,    0,    0,    0,    0,    0,    0,    0,\n",
       "           0,    0,    0,    0,    0,    0,    0,    0,    0,    0,    0,\n",
       "           0,    0,    0,    0,    0,    0,    0,    0,  421,    9, 1787,\n",
       "          23,  618, 4194,  976],\n",
       "       [   0,    0,    0,    0,    0,    0,    0,    0,    0,    0,    0,\n",
       "           0,    0,    0,    0,    0,    0,    0,    0,    0,    0,    0,\n",
       "           0,    0,    0,    0,    0,    0,    0,    0,    0,    0,    0,\n",
       "        1391, 1391,   40, 1550],\n",
       "       [   0,    0,    0,    0,    0,    0,    0,    0,    0,    0,    0,\n",
       "           0,    0,    0,    0,    0,    0,    0,    0,    0,  247, 3485,\n",
       "         132,   16, 1033, 1624,  252,   74,   76, 1073,  145,   74,   43,\n",
       "        1073,  196,   74,   67],\n",
       "       [   0,    0,    0,    0,    0,    0,    0,    0,    0,    0,    0,\n",
       "           0,    0,    0,    0,    0,    0,    0,    0,    0,   14,  492,\n",
       "        1103, 3689, 4962,  106,  560,    6, 4544,  848, 1034,  258,   13,\n",
       "         602,  277,   15, 1661],\n",
       "       [   0,    0,    0,    0,    0,    0,    0,    0,    0,    0,    0,\n",
       "           0,    0,    0,    0,    0,    0,    0,    0,    0,    0,    0,\n",
       "           0,    0,    0,    0,    0,    0,    0,    0,    0,    0,  180,\n",
       "         870,  437,  171,  153]])"
      ]
     },
     "execution_count": 36,
     "metadata": {},
     "output_type": "execute_result"
    }
   ],
   "source": [
    "tokenizer = Tokenizer(num_words=5000, split=\" \")\n",
    "tokenizer.fit_on_texts(bal_df['content'].values)\n",
    "\n",
    "X = tokenizer.texts_to_sequences(bal_df['content'].values)\n",
    "X = pad_sequences(X) # padding our text vector so they all have the same length\n",
    "X[:5]"
   ]
  },
  {
   "cell_type": "markdown",
   "metadata": {},
   "source": [
    "<b> Training a neural network with Embedding Layer of 5000 words </b>"
   ]
  },
  {
   "cell_type": "code",
   "execution_count": 55,
   "metadata": {},
   "outputs": [
    {
     "name": "stdout",
     "output_type": "stream",
     "text": [
      "Model: \"sequential\"\n",
      "_________________________________________________________________\n",
      "Layer (type)                 Output Shape              Param #   \n",
      "=================================================================\n",
      "embedding (Embedding)        (None, 37, 256)           1280000   \n",
      "_________________________________________________________________\n",
      "dropout (Dropout)            (None, 37, 256)           0         \n",
      "_________________________________________________________________\n",
      "lstm (LSTM)                  (None, 256)               525312    \n",
      "_________________________________________________________________\n",
      "dense (Dense)                (None, 3)                 771       \n",
      "=================================================================\n",
      "Total params: 1,806,083\n",
      "Trainable params: 1,806,083\n",
      "Non-trainable params: 0\n",
      "_________________________________________________________________\n"
     ]
    }
   ],
   "source": [
    "model = Sequential()\n",
    "\n",
    "model.add(Embedding(5000, 256, input_length = X.shape[1])) ## Embedding layer with 5000 words\n",
    "model.add(Dropout(0.8)) ## Note this\n",
    "model.add(LSTM(256, dropout=0.6, recurrent_dropout=0.5, activation = 'tanh'))\n",
    "model.add(Dense(3, activation='sigmoid')) \n",
    "\n",
    "model.compile(loss='categorical_crossentropy', optimizer='adam', metrics=['accuracy'])\n",
    "model.summary()"
   ]
  },
  {
   "cell_type": "code",
   "execution_count": 56,
   "metadata": {},
   "outputs": [],
   "source": [
    "y = pd.get_dummies(bal_df['sentiment']).values"
   ]
  },
  {
   "cell_type": "code",
   "execution_count": 57,
   "metadata": {},
   "outputs": [],
   "source": [
    "X_train, X_test, y_train, y_test = train_test_split(X, y, \n",
    "                                                    test_size=0.1, random_state=0)"
   ]
  },
  {
   "cell_type": "code",
   "execution_count": 58,
   "metadata": {
    "scrolled": false
   },
   "outputs": [
    {
     "name": "stdout",
     "output_type": "stream",
     "text": [
      "Epoch 1/15\n",
      "207/207 [==============================] - 135s 632ms/step - loss: 0.9686 - accuracy: 0.5028 - val_loss: 0.6768 - val_accuracy: 0.7256\n",
      "Epoch 2/15\n",
      "207/207 [==============================] - 131s 635ms/step - loss: 0.6660 - accuracy: 0.7212 - val_loss: 0.5306 - val_accuracy: 0.8044\n",
      "Epoch 3/15\n",
      "207/207 [==============================] - 125s 603ms/step - loss: 0.5295 - accuracy: 0.7961 - val_loss: 0.4713 - val_accuracy: 0.8355\n",
      "Epoch 4/15\n",
      "207/207 [==============================] - 126s 610ms/step - loss: 0.4541 - accuracy: 0.8363 - val_loss: 0.4460 - val_accuracy: 0.8480\n",
      "Epoch 5/15\n",
      "207/207 [==============================] - 125s 605ms/step - loss: 0.4080 - accuracy: 0.8584 - val_loss: 0.4319 - val_accuracy: 0.8500\n",
      "Epoch 6/15\n",
      "207/207 [==============================] - 125s 604ms/step - loss: 0.3756 - accuracy: 0.8710 - val_loss: 0.4351 - val_accuracy: 0.8477\n"
     ]
    }
   ],
   "source": [
    "## implementing with early stopping\n",
    "batch_size = 150\n",
    "epochs = 15\n",
    "\n",
    "history = model.fit(X_train, y_train, epochs = epochs, batch_size = batch_size, verbose = 1,\n",
    "                   validation_data = (X_test, y_test), callbacks = EarlyStopping(monitor = 'val_loss'))"
   ]
  },
  {
   "cell_type": "code",
   "execution_count": 59,
   "metadata": {},
   "outputs": [
    {
     "data": {
      "image/png": "[encoded data removed]",
      "text/plain": [
       "<Figure size 432x288 with 1 Axes>"
      ]
     },
     "metadata": {
      "needs_background": "light"
     },
     "output_type": "display_data"
    }
   ],
   "source": [
    "plt.plot(history.history['loss'], label = 'Train')\n",
    "plt.plot(history.history['val_loss'], label = 'Test')\n",
    "plt.legend()\n",
    "plt.show()"
   ]
  },
  {
   "cell_type": "code",
   "execution_count": 60,
   "metadata": {},
   "outputs": [
    {
     "name": "stdout",
     "output_type": "stream",
     "text": [
      "968/968 - 37s - loss: 0.3317 - accuracy: 0.8879\n",
      "Train accuracy: 0.8879126310348511\n",
      "108/108 - 4s - loss: 0.4351 - accuracy: 0.8477\n",
      "Test accuracy: 0.8476744294166565\n"
     ]
    }
   ],
   "source": [
    "scores = model.evaluate(X_train, y_train, verbose=2)\n",
    "print('Train accuracy:', scores[1])\n",
    "\n",
    "scores = model.evaluate(X_test, y_test, verbose=2)\n",
    "print('Test accuracy:', scores[1])"
   ]
  },
  {
   "cell_type": "markdown",
   "metadata": {},
   "source": [
    "Train accuracy: 0.89\n",
    "\n",
    "Test accuracy: 0.85"
   ]
  },
  {
   "cell_type": "markdown",
   "metadata": {},
   "source": [
    "<b> Training another LSTM with Embedding Layer of 3000 words</b>"
   ]
  },
  {
   "cell_type": "code",
   "execution_count": 43,
   "metadata": {},
   "outputs": [
    {
     "data": {
      "text/plain": [
       "array([[   0,    0,    0,    0,    0,    0,    0,    0,    0,    0,    0,\n",
       "           0,    0,    0,    0,    0,    0,    0,    0,    0,    0,    0,\n",
       "           0,    0,    0,    0,    0,    0,    0,    0,  421,    9, 1787,\n",
       "          23,  618,  976],\n",
       "       [   0,    0,    0,    0,    0,    0,    0,    0,    0,    0,    0,\n",
       "           0,    0,    0,    0,    0,    0,    0,    0,    0,    0,    0,\n",
       "           0,    0,    0,    0,    0,    0,    0,    0,    0,    0, 1391,\n",
       "        1391,   40, 1550],\n",
       "       [   0,    0,    0,    0,    0,    0,    0,    0,    0,    0,    0,\n",
       "           0,    0,    0,    0,    0,    0,    0,    0,    0,  247,  132,\n",
       "          16, 1033, 1624,  252,   74,   76, 1073,  145,   74,   43, 1073,\n",
       "         196,   74,   67],\n",
       "       [   0,    0,    0,    0,    0,    0,    0,    0,    0,    0,    0,\n",
       "           0,    0,    0,    0,    0,    0,    0,    0,    0,    0,    0,\n",
       "          14,  492, 1103,  106,  560,    6,  848, 1034,  258,   13,  602,\n",
       "         277,   15, 1661],\n",
       "       [   0,    0,    0,    0,    0,    0,    0,    0,    0,    0,    0,\n",
       "           0,    0,    0,    0,    0,    0,    0,    0,    0,    0,    0,\n",
       "           0,    0,    0,    0,    0,    0,    0,    0,    0,  180,  870,\n",
       "         437,  171,  153]])"
      ]
     },
     "execution_count": 43,
     "metadata": {},
     "output_type": "execute_result"
    }
   ],
   "source": [
    "tokenizer = Tokenizer(num_words=3000, split=\" \")\n",
    "tokenizer.fit_on_texts(bal_df['content'].values)\n",
    "\n",
    "X = tokenizer.texts_to_sequences(bal_df['content'].values)\n",
    "X = pad_sequences(X) # padding our text vector so they all have the same length\n",
    "X[:5]"
   ]
  },
  {
   "cell_type": "code",
   "execution_count": 44,
   "metadata": {},
   "outputs": [
    {
     "name": "stdout",
     "output_type": "stream",
     "text": [
      "Model: \"sequential_2\"\n",
      "_________________________________________________________________\n",
      "Layer (type)                 Output Shape              Param #   \n",
      "=================================================================\n",
      "embedding_2 (Embedding)      (None, 36, 256)           768000    \n",
      "_________________________________________________________________\n",
      "lstm_2 (LSTM)                (None, 256)               525312    \n",
      "_________________________________________________________________\n",
      "dense_2 (Dense)              (None, 3)                 771       \n",
      "=================================================================\n",
      "Total params: 1,294,083\n",
      "Trainable params: 1,294,083\n",
      "Non-trainable params: 0\n",
      "_________________________________________________________________\n"
     ]
    }
   ],
   "source": [
    "model2 = Sequential()\n",
    "\n",
    "model2.add(Embedding(3000, 256, input_length=X.shape[1]))\n",
    "## No dropout after embedding layer\n",
    "model2.add(LSTM(256, dropout=0.6, recurrent_dropout=0.5, activation = 'tanh'))\n",
    "model2.add(Dense(3, activation='sigmoid')) \n",
    "\n",
    "model2.compile(loss='categorical_crossentropy', optimizer='adam', metrics=['accuracy'])\n",
    "model2.summary()"
   ]
  },
  {
   "cell_type": "code",
   "execution_count": 45,
   "metadata": {},
   "outputs": [],
   "source": [
    "y = pd.get_dummies(bal_df['sentiment']).values\n",
    "\n",
    "X_train, X_test, y_train, y_test = train_test_split(X, y, \n",
    "                                                    test_size=0.1, random_state=0)"
   ]
  },
  {
   "cell_type": "code",
   "execution_count": 46,
   "metadata": {},
   "outputs": [
    {
     "name": "stdout",
     "output_type": "stream",
     "text": [
      "Epoch 1/15\n",
      "207/207 [==============================] - 128s 601ms/step - loss: 0.8902 - accuracy: 0.5789 - val_loss: 0.5286 - val_accuracy: 0.8087\n",
      "Epoch 2/15\n",
      "207/207 [==============================] - 120s 577ms/step - loss: 0.4643 - accuracy: 0.8309 - val_loss: 0.4793 - val_accuracy: 0.8407\n",
      "Epoch 3/15\n",
      "207/207 [==============================] - 118s 571ms/step - loss: 0.4031 - accuracy: 0.8558 - val_loss: 0.4764 - val_accuracy: 0.8360\n",
      "Epoch 4/15\n",
      "207/207 [==============================] - 118s 568ms/step - loss: 0.3890 - accuracy: 0.8631 - val_loss: 0.4863 - val_accuracy: 0.8381\n"
     ]
    }
   ],
   "source": [
    "## implementing with early stopping\n",
    "batch_size = 150\n",
    "epochs = 15\n",
    "\n",
    "history2 = model2.fit(X_train, y_train, \n",
    "                      epochs = epochs, \n",
    "                      batch_size = batch_size, verbose = 1,\n",
    "                      validation_data = (X_test, y_test), \n",
    "                      callbacks = EarlyStopping(monitor = 'val_loss'))"
   ]
  },
  {
   "cell_type": "code",
   "execution_count": 47,
   "metadata": {},
   "outputs": [
    {
     "name": "stdout",
     "output_type": "stream",
     "text": [
      "968/968 - 31s - loss: 0.3491 - accuracy: 0.8788\n",
      "Train accuracy: 0.8788358569145203\n",
      "108/108 - 3s - loss: 0.4863 - accuracy: 0.8381\n",
      "Test accuracy: 0.838081419467926\n"
     ]
    }
   ],
   "source": [
    "scores = model2.evaluate(X_train, y_train, verbose=2)\n",
    "print('Train accuracy:', scores[1])\n",
    "\n",
    "scores = model2.evaluate(X_test, y_test, verbose=2)\n",
    "print('Test accuracy:', scores[1])"
   ]
  },
  {
   "cell_type": "markdown",
   "metadata": {},
   "source": [
    "<b> The above model has similar training accuracy like the first model</b>"
   ]
  },
  {
   "cell_type": "markdown",
   "metadata": {},
   "source": [
    "<b> Training another LSTM with Embedding Layer of 3000 words but using L2 regularization</b>"
   ]
  },
  {
   "cell_type": "code",
   "execution_count": 48,
   "metadata": {},
   "outputs": [
    {
     "data": {
      "text/plain": [
       "array([[   0,    0,    0,    0,    0,    0,    0,    0,    0,    0,    0,\n",
       "           0,    0,    0,    0,    0,    0,    0,    0,    0,    0,    0,\n",
       "           0,    0,    0,    0,    0,    0,    0,    0,  421,    9, 1787,\n",
       "          23,  618,  976],\n",
       "       [   0,    0,    0,    0,    0,    0,    0,    0,    0,    0,    0,\n",
       "           0,    0,    0,    0,    0,    0,    0,    0,    0,    0,    0,\n",
       "           0,    0,    0,    0,    0,    0,    0,    0,    0,    0, 1391,\n",
       "        1391,   40, 1550],\n",
       "       [   0,    0,    0,    0,    0,    0,    0,    0,    0,    0,    0,\n",
       "           0,    0,    0,    0,    0,    0,    0,    0,    0,  247,  132,\n",
       "          16, 1033, 1624,  252,   74,   76, 1073,  145,   74,   43, 1073,\n",
       "         196,   74,   67],\n",
       "       [   0,    0,    0,    0,    0,    0,    0,    0,    0,    0,    0,\n",
       "           0,    0,    0,    0,    0,    0,    0,    0,    0,    0,    0,\n",
       "          14,  492, 1103,  106,  560,    6,  848, 1034,  258,   13,  602,\n",
       "         277,   15, 1661],\n",
       "       [   0,    0,    0,    0,    0,    0,    0,    0,    0,    0,    0,\n",
       "           0,    0,    0,    0,    0,    0,    0,    0,    0,    0,    0,\n",
       "           0,    0,    0,    0,    0,    0,    0,    0,    0,  180,  870,\n",
       "         437,  171,  153]])"
      ]
     },
     "execution_count": 48,
     "metadata": {},
     "output_type": "execute_result"
    }
   ],
   "source": [
    "tokenizer = Tokenizer(num_words = 3000, split=\" \")\n",
    "tokenizer.fit_on_texts(bal_df['content'].values)\n",
    "\n",
    "X = tokenizer.texts_to_sequences(bal_df['content'].values)\n",
    "X = pad_sequences(X) # padding our text vector so they all have the same length\n",
    "X[:5]"
   ]
  },
  {
   "cell_type": "code",
   "execution_count": 49,
   "metadata": {},
   "outputs": [
    {
     "name": "stdout",
     "output_type": "stream",
     "text": [
      "Model: \"sequential_3\"\n",
      "_________________________________________________________________\n",
      "Layer (type)                 Output Shape              Param #   \n",
      "=================================================================\n",
      "embedding_3 (Embedding)      (None, 36, 256)           768000    \n",
      "_________________________________________________________________\n",
      "lstm_3 (LSTM)                (None, 256)               525312    \n",
      "_________________________________________________________________\n",
      "dense_3 (Dense)              (None, 3)                 771       \n",
      "=================================================================\n",
      "Total params: 1,294,083\n",
      "Trainable params: 1,294,083\n",
      "Non-trainable params: 0\n",
      "_________________________________________________________________\n"
     ]
    }
   ],
   "source": [
    "model3 = Sequential()\n",
    "\n",
    "model3.add(Embedding(3000, 256, input_length=X.shape[1]))\n",
    "## No dropout here\n",
    "model3.add(LSTM(256, dropout=0.6, recurrent_dropout=0.5, activation = 'tanh',kernel_regularizer = 'l2'))\n",
    "model3.add(Dense(3, activation='sigmoid',kernel_regularizer = 'l2')) \n",
    "\n",
    "model3.compile(loss='categorical_crossentropy', optimizer='adam', metrics=['accuracy'])\n",
    "model3.summary()"
   ]
  },
  {
   "cell_type": "code",
   "execution_count": 50,
   "metadata": {},
   "outputs": [],
   "source": [
    "y = pd.get_dummies(bal_df['sentiment']).values\n",
    "\n",
    "X_train, X_test, y_train, y_test = train_test_split(X, y, \n",
    "                                                    test_size=0.1, random_state=0)"
   ]
  },
  {
   "cell_type": "code",
   "execution_count": 51,
   "metadata": {},
   "outputs": [
    {
     "name": "stdout",
     "output_type": "stream",
     "text": [
      "Epoch 1/15\n",
      "207/207 [==============================] - 117s 547ms/step - loss: 2.1761 - accuracy: 0.4857 - val_loss: 0.8306 - val_accuracy: 0.6096\n",
      "Epoch 2/15\n",
      "207/207 [==============================] - 111s 538ms/step - loss: 0.7870 - accuracy: 0.6426 - val_loss: 0.6703 - val_accuracy: 0.7724\n",
      "Epoch 3/15\n",
      "207/207 [==============================] - 112s 539ms/step - loss: 0.6210 - accuracy: 0.7941 - val_loss: 0.5998 - val_accuracy: 0.8055\n",
      "Epoch 4/15\n",
      "207/207 [==============================] - 122s 588ms/step - loss: 0.5420 - accuracy: 0.8336 - val_loss: 0.5723 - val_accuracy: 0.8238\n",
      "Epoch 5/15\n",
      "207/207 [==============================] - 114s 550ms/step - loss: 0.5198 - accuracy: 0.8451 - val_loss: 0.5691 - val_accuracy: 0.8314\n",
      "Epoch 6/15\n",
      "207/207 [==============================] - 111s 537ms/step - loss: 0.4880 - accuracy: 0.8550 - val_loss: 0.5674 - val_accuracy: 0.8285\n",
      "Epoch 7/15\n",
      "207/207 [==============================] - 112s 543ms/step - loss: 0.4702 - accuracy: 0.8616 - val_loss: 0.5565 - val_accuracy: 0.8331\n",
      "Epoch 8/15\n",
      "207/207 [==============================] - 112s 541ms/step - loss: 0.4595 - accuracy: 0.8655 - val_loss: 0.5514 - val_accuracy: 0.8337\n",
      "Epoch 9/15\n",
      "207/207 [==============================] - 112s 539ms/step - loss: 0.4568 - accuracy: 0.8674 - val_loss: 0.5695 - val_accuracy: 0.8256\n"
     ]
    }
   ],
   "source": [
    "## implementing with early stopping\n",
    "batch_size = 150\n",
    "epochs = 15\n",
    "\n",
    "history3 = model3.fit(X_train, y_train, \n",
    "                      epochs = epochs, \n",
    "                      batch_size = batch_size, verbose = 1,\n",
    "                      validation_data = (X_test, y_test), \n",
    "                      callbacks = EarlyStopping(monitor = 'val_loss'))"
   ]
  },
  {
   "cell_type": "code",
   "execution_count": 52,
   "metadata": {},
   "outputs": [
    {
     "name": "stdout",
     "output_type": "stream",
     "text": [
      "968/968 - 30s - loss: 0.4303 - accuracy: 0.8784\n",
      "Train accuracy: 0.8784482479095459\n",
      "108/108 - 3s - loss: 0.5695 - accuracy: 0.8256\n",
      "Test accuracy: 0.8255813717842102\n"
     ]
    }
   ],
   "source": [
    "scores = model3.evaluate(X_train, y_train, verbose=2)\n",
    "print('Train accuracy:', scores[1])\n",
    "\n",
    "scores = model3.evaluate(X_test, y_test, verbose=2)\n",
    "print('Test accuracy:', scores[1])"
   ]
  },
  {
   "cell_type": "markdown",
   "metadata": {},
   "source": [
    "<b> This model performed slightly worse than the first two models. (Maybe because of regularization)</b>"
   ]
  },
  {
   "cell_type": "markdown",
   "metadata": {},
   "source": [
    "<b> Training another LSTM with Embedding Layer of 5000 words but using L2 regularization</b>"
   ]
  },
  {
   "cell_type": "code",
   "execution_count": 53,
   "metadata": {},
   "outputs": [
    {
     "data": {
      "text/plain": [
       "array([[   0,    0,    0,    0,    0,    0,    0,    0,    0,    0,    0,\n",
       "           0,    0,    0,    0,    0,    0,    0,    0,    0,    0,    0,\n",
       "           0,    0,    0,    0,    0,    0,    0,    0,  421,    9, 1787,\n",
       "          23,  618, 4194,  976],\n",
       "       [   0,    0,    0,    0,    0,    0,    0,    0,    0,    0,    0,\n",
       "           0,    0,    0,    0,    0,    0,    0,    0,    0,    0,    0,\n",
       "           0,    0,    0,    0,    0,    0,    0,    0,    0,    0,    0,\n",
       "        1391, 1391,   40, 1550],\n",
       "       [   0,    0,    0,    0,    0,    0,    0,    0,    0,    0,    0,\n",
       "           0,    0,    0,    0,    0,    0,    0,    0,    0,  247, 3485,\n",
       "         132,   16, 1033, 1624,  252,   74,   76, 1073,  145,   74,   43,\n",
       "        1073,  196,   74,   67],\n",
       "       [   0,    0,    0,    0,    0,    0,    0,    0,    0,    0,    0,\n",
       "           0,    0,    0,    0,    0,    0,    0,    0,    0,   14,  492,\n",
       "        1103, 3689, 4962,  106,  560,    6, 4544,  848, 1034,  258,   13,\n",
       "         602,  277,   15, 1661],\n",
       "       [   0,    0,    0,    0,    0,    0,    0,    0,    0,    0,    0,\n",
       "           0,    0,    0,    0,    0,    0,    0,    0,    0,    0,    0,\n",
       "           0,    0,    0,    0,    0,    0,    0,    0,    0,    0,  180,\n",
       "         870,  437,  171,  153]])"
      ]
     },
     "execution_count": 53,
     "metadata": {},
     "output_type": "execute_result"
    }
   ],
   "source": [
    "tokenizer = Tokenizer(num_words = 5000, split=\" \")\n",
    "tokenizer.fit_on_texts(bal_df['content'].values)\n",
    "\n",
    "X = tokenizer.texts_to_sequences(bal_df['content'].values)\n",
    "X = pad_sequences(X) # padding our text vector so they all have the same length\n",
    "X[:5]"
   ]
  },
  {
   "cell_type": "code",
   "execution_count": 54,
   "metadata": {},
   "outputs": [
    {
     "name": "stdout",
     "output_type": "stream",
     "text": [
      "Model: \"sequential_4\"\n",
      "_________________________________________________________________\n",
      "Layer (type)                 Output Shape              Param #   \n",
      "=================================================================\n",
      "embedding_4 (Embedding)      (None, 37, 256)           1280000   \n",
      "_________________________________________________________________\n",
      "lstm_4 (LSTM)                (None, 256)               525312    \n",
      "_________________________________________________________________\n",
      "dense_4 (Dense)              (None, 3)                 771       \n",
      "=================================================================\n",
      "Total params: 1,806,083\n",
      "Trainable params: 1,806,083\n",
      "Non-trainable params: 0\n",
      "_________________________________________________________________\n"
     ]
    }
   ],
   "source": [
    "model4 = Sequential()\n",
    "\n",
    "model4.add(Embedding(5000, 256, input_length=X.shape[1]))\n",
    "model4.add(LSTM(256, dropout=0.6, recurrent_dropout=0.5, activation = 'tanh',kernel_regularizer = 'l2'))\n",
    "model4.add(Dense(3, activation='sigmoid',kernel_regularizer = 'l2')) \n",
    "\n",
    "model4.compile(loss='categorical_crossentropy', optimizer='adam', metrics=['accuracy'])\n",
    "model4.summary()"
   ]
  },
  {
   "cell_type": "code",
   "execution_count": 55,
   "metadata": {},
   "outputs": [],
   "source": [
    "y = pd.get_dummies(bal_df['sentiment']).values\n",
    "\n",
    "X_train, X_test, y_train, y_test = train_test_split(X, y, \n",
    "                                                    test_size=0.1, random_state=0)"
   ]
  },
  {
   "cell_type": "code",
   "execution_count": 56,
   "metadata": {},
   "outputs": [
    {
     "name": "stdout",
     "output_type": "stream",
     "text": [
      "Epoch 1/15\n",
      "207/207 [==============================] - 127s 589ms/step - loss: 2.1822 - accuracy: 0.4902 - val_loss: 0.8055 - val_accuracy: 0.6456\n",
      "Epoch 2/15\n",
      "207/207 [==============================] - 116s 562ms/step - loss: 0.7370 - accuracy: 0.6989 - val_loss: 0.6051 - val_accuracy: 0.8015\n",
      "Epoch 3/15\n",
      "207/207 [==============================] - 117s 564ms/step - loss: 0.5392 - accuracy: 0.8329 - val_loss: 0.5635 - val_accuracy: 0.8311\n",
      "Epoch 4/15\n",
      "207/207 [==============================] - 120s 578ms/step - loss: 0.4854 - accuracy: 0.8625 - val_loss: 0.5395 - val_accuracy: 0.8439\n",
      "Epoch 5/15\n",
      "207/207 [==============================] - 117s 565ms/step - loss: 0.4414 - accuracy: 0.8783 - val_loss: 0.5289 - val_accuracy: 0.8439\n",
      "Epoch 6/15\n",
      "207/207 [==============================] - 116s 562ms/step - loss: 0.4204 - accuracy: 0.8880 - val_loss: 0.5328 - val_accuracy: 0.8436\n"
     ]
    }
   ],
   "source": [
    "\n",
    "batch_size = 150\n",
    "epochs = 15\n",
    "\n",
    "history4 = model4.fit(X_train, y_train, \n",
    "                      epochs = epochs, \n",
    "                      batch_size = batch_size, verbose = 1,\n",
    "                      validation_data = (X_test, y_test),\n",
    "                      callbacks = EarlyStopping(monitor = 'val_loss'))"
   ]
  },
  {
   "cell_type": "code",
   "execution_count": 57,
   "metadata": {},
   "outputs": [
    {
     "data": {
      "image/png": "[encoded data removed]",
      "text/plain": [
       "<Figure size 432x288 with 1 Axes>"
      ]
     },
     "metadata": {
      "needs_background": "light"
     },
     "output_type": "display_data"
    }
   ],
   "source": [
    "plt.plot(history4.history['loss'], label = 'Train')\n",
    "plt.plot(history4.history['val_loss'], label = 'Test')\n",
    "plt.legend()\n",
    "plt.show()"
   ]
  },
  {
   "cell_type": "code",
   "execution_count": 58,
   "metadata": {},
   "outputs": [
    {
     "name": "stdout",
     "output_type": "stream",
     "text": [
      "968/968 - 32s - loss: 0.3860 - accuracy: 0.9025\n",
      "Train accuracy: 0.9024807810783386\n",
      "108/108 - 4s - loss: 0.5328 - accuracy: 0.8436\n",
      "Test accuracy: 0.8436046242713928\n"
     ]
    }
   ],
   "source": [
    "scores = model4.evaluate(X_train, y_train, verbose=2)\n",
    "print('Train accuracy:', scores[1])\n",
    "\n",
    "scores = model4.evaluate(X_test, y_test, verbose=2)\n",
    "print('Test accuracy:', scores[1])"
   ]
  },
  {
   "cell_type": "markdown",
   "metadata": {},
   "source": [
    "<b> This model overfits the training data</b>"
   ]
  },
  {
   "cell_type": "markdown",
   "metadata": {},
   "source": [
    "## INFERENCES:\n",
    "\n",
    "The best model is the first model"
   ]
  }
 ],
 "metadata": {
  "kernelspec": {
   "display_name": "Python 3",
   "language": "python",
   "name": "python3"
  },
  "language_info": {
   "codemirror_mode": {
    "name": "ipython",
    "version": 3
   },
   "file_extension": ".py",
   "mimetype": "text/x-python",
   "name": "python",
   "nbconvert_exporter": "python",
   "pygments_lexer": "ipython3",
   "version": "3.8.5"
  }
 },
 "nbformat": 4,
 "nbformat_minor": 4
}
